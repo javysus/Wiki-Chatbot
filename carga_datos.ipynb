{
 "cells": [
  {
   "cell_type": "code",
   "execution_count": null,
   "id": "9cf6cbc9-4670-48d5-a4d2-74b3f7d003fd",
   "metadata": {},
   "outputs": [
    {
     "name": "stderr",
     "output_type": "stream",
     "text": [
      "c:\\Users\\Javi\\AppData\\Local\\Programs\\Python\\Python313\\Lib\\site-packages\\tqdm\\auto.py:21: TqdmWarning: IProgress not found. Please update jupyter and ipywidgets. See https://ipywidgets.readthedocs.io/en/stable/user_install.html\n",
      "  from .autonotebook import tqdm as notebook_tqdm\n"
     ]
    }
   ],
   "source": [
    "import re\n",
    "from datasets import load_dataset\n",
    "from langchain.text_splitter import RecursiveCharacterTextSplitter\n",
    "from langchain.docstore.document import Document\n",
    "from langchain.vectorstores import FAISS"
   ]
  },
  {
   "cell_type": "code",
   "execution_count": null,
   "id": "a583fadc-87e6-4bb9-b25b-7e25cac453ef",
   "metadata": {},
   "outputs": [],
   "source": [
    "#Función para procesamiento de texto\n",
    "def preprocess_text(text):\n",
    "    text = text['text'].replace('\\n', ' ') #Quitar saltos de línea\n",
    "    text = re.sub(r'<.*?>', '', text)  # Eliminar etiquetas HTML\n",
    "    text = re.sub(r'http\\S+', '', text)  # Eliminar URLs\n",
    "    text = re.sub(r'\\[.*?\\]', '', text)  # Eliminar referencias en formato [Texto]\n",
    "    text =  re.sub(r'\\(\\d{8}\\)', '', text) #Eliminar fechas entre parentesis\n",
    "    text = re.sub(r'\\s+', ' ', text).strip() #Quitar espacios extras\n",
    "    text = re.sub(r'[^a-zA-Z0-9áéíóúÁÉÍÓÚñÑ.,;:()?!\\s]', '', text) #Eliminar caracteres especiales\n",
    "    return {'text': text}"
   ]
  },
  {
   "cell_type": "markdown",
   "id": "79e374a0",
   "metadata": {},
   "source": [
    "# 📌 Carga del dataset\n",
    "Se utiliza el dataset Wikimedia de Huggingface en español, específicamente la versión 20231101.es"
   ]
  },
  {
   "cell_type": "code",
   "execution_count": null,
   "id": "702212e8",
   "metadata": {},
   "outputs": [],
   "source": [
    "# Ruta a la carpeta que contiene los archivos .parquet\n",
    "dataset = load_dataset(\"parquet\", data_files=\"20231101.es/*.parquet\", split=\"train\")"
   ]
  },
  {
   "cell_type": "markdown",
   "id": "6b7b2ddf",
   "metadata": {},
   "source": [
    "# 📌 Preprocesamiento del dataset\n",
    "Se utiliza la función de limpieza de los datos preprocess_text para quitar saltos de línea y limpiar carácteres que puedan venir con los artículos de Wikipedia."
   ]
  },
  {
   "cell_type": "code",
   "execution_count": null,
   "id": "5d7499dc",
   "metadata": {},
   "outputs": [],
   "source": [
    "#Limpiar dataset\n",
    "clean_dataset = dataset.map(preprocess_text)\n",
    "\n",
    "# Filtrar registros donde 'text' no tenga contenido relevante\n",
    "clean_dataset = clean_dataset.filter(lambda x: x['text'] is not None and len(x['text'].strip()) > 50)"
   ]
  },
  {
   "cell_type": "markdown",
   "id": "d63e2f24",
   "metadata": {},
   "source": [
    "# 📌 Definición del TextSplitter\n",
    "\n",
    "Se selecciona el TextSplitter RecursiveCharacterTextSplitter con un tamaño de chunk de 1024 y un overlap de 150."
   ]
  },
  {
   "cell_type": "code",
   "execution_count": null,
   "id": "72a1c8ed",
   "metadata": {},
   "outputs": [],
   "source": [
    "text_splitter = RecursiveCharacterTextSplitter(\n",
    "    chunk_size = 1024,\n",
    "    chunk_overlap  = 150\n",
    ")"
   ]
  },
  {
   "cell_type": "code",
   "execution_count": null,
   "id": "b122d9a3",
   "metadata": {},
   "outputs": [],
   "source": [
    "# Aplicar chunking a cada texto individualmente\n",
    "chunked_dataset = [text_splitter.split_text(text) for text in clean_dataset[\"text\"]]"
   ]
  },
  {
   "cell_type": "code",
   "execution_count": null,
   "id": "cb858ec7",
   "metadata": {},
   "outputs": [],
   "source": [
    "# Aplanar la lista de listas en una sola lista\n",
    "flattened_chunks = [chunk for sublist in chunked_dataset for chunk in sublist]"
   ]
  },
  {
   "cell_type": "code",
   "execution_count": null,
   "id": "7e3da2d3",
   "metadata": {},
   "outputs": [],
   "source": [
    "# Convertir los chunks de texto a objetos Document de LangChain\n",
    "documents = [Document(page_content=text) for text in flattened_chunks]"
   ]
  },
  {
   "cell_type": "markdown",
   "id": "816e5234",
   "metadata": {},
   "source": [
    "# 📌 Selección del Embedding\n",
    "\n",
    "A continuación, se escoge el embedding de HuggingFace sentence-transformers. La selección de este embedding fue principalmente por su uso gratuito."
   ]
  },
  {
   "cell_type": "code",
   "execution_count": null,
   "id": "ba8c15f3",
   "metadata": {},
   "outputs": [],
   "source": [
    "from langchain_huggingface import HuggingFaceEmbeddings\n",
    "\n",
    "embed_model = HuggingFaceEmbeddings(model_name=\"sentence-transformers/all-MiniLM-L6-v2\")"
   ]
  },
  {
   "cell_type": "markdown",
   "id": "14a47089",
   "metadata": {},
   "source": [
    "## Opción 1\n",
    "La primera opción es cargar directamente los datos a la base de datos vectorial."
   ]
  },
  {
   "cell_type": "code",
   "execution_count": null,
   "id": "b80a18b7",
   "metadata": {},
   "outputs": [],
   "source": [
    "vector_db = FAISS.from_documents(documents, embed_model)"
   ]
  },
  {
   "cell_type": "markdown",
   "id": "55cc45e7",
   "metadata": {},
   "source": [
    "## Opción 2\n",
    "Debido a la gran cantidad de datos, la segunda opción fue ir cargando los datos por lotes, de modo que si ocurre algún error de memoria, no se pierda el progreso."
   ]
  },
  {
   "cell_type": "code",
   "execution_count": null,
   "id": "065a2341",
   "metadata": {},
   "outputs": [
    {
     "name": "stdout",
     "output_type": "stream",
     "text": [
      "Indexando documentos 440000 a 940000...\n",
      "Indexando documentos 940000 a 1440000...\n",
      "Indexando documentos 1440000 a 1940000...\n",
      "Indexando documentos 1940000 a 2440000...\n"
     ]
    },
    {
     "ename": "",
     "evalue": "",
     "output_type": "error",
     "traceback": [
      "\u001b[1;31mThe Kernel crashed while executing code in the current cell or a previous cell. \n",
      "\u001b[1;31mPlease review the code in the cell(s) to identify a possible cause of the failure. \n",
      "\u001b[1;31mClick <a href='https://aka.ms/vscodeJupyterKernelCrash'>here</a> for more info. \n",
      "\u001b[1;31mView Jupyter <a href='command:jupyter.viewOutput'>log</a> for further details."
     ]
    }
   ],
   "source": [
    "batch_size = 500000  # Ajusta según tu RAM disponible\n",
    "vector_db = None  # Inicializamos la base de datos\n",
    "index_path = \"vector_index.faiss\"  # Archivo para guardar el índice\n",
    "\n",
    "\n",
    "for i in range(440000, len(documents), batch_size):\n",
    "    batch = documents[i : i + batch_size]  # Dividimos en lotes más pequeños\n",
    "    print(f\"Indexando documentos {i} a {i + len(batch)}...\")\n",
    "\n",
    "    if vector_db is None:\n",
    "        vector_db = FAISS.from_documents(batch, embed_model)\n",
    "    else:\n",
    "        vector_db.add_documents(batch)\n",
    "\n",
    "    # Guardar el índice FAISS\n",
    "    vector_db.save_local(\"faiss_index\")\n",
    "\n",
    "print(\"Indexación completada!\")"
   ]
  },
  {
   "cell_type": "markdown",
   "id": "87bbb2af",
   "metadata": {},
   "source": [
    "Finalmente, se guarda localmente los datos vectoriales para luego, ser utilizados por el modelo RAG."
   ]
  },
  {
   "cell_type": "code",
   "execution_count": null,
   "id": "e6623316",
   "metadata": {},
   "outputs": [],
   "source": [
    "# Guardar el índice FAISS\n",
    "vector_db.save_local(\"faiss_index\")"
   ]
  }
 ],
 "metadata": {
  "kernelspec": {
   "display_name": "Python 3 (ipykernel)",
   "language": "python",
   "name": "python3"
  },
  "language_info": {
   "codemirror_mode": {
    "name": "ipython",
    "version": 3
   },
   "file_extension": ".py",
   "mimetype": "text/x-python",
   "name": "python",
   "nbconvert_exporter": "python",
   "pygments_lexer": "ipython3",
   "version": "3.13.2"
  }
 },
 "nbformat": 4,
 "nbformat_minor": 5
}
